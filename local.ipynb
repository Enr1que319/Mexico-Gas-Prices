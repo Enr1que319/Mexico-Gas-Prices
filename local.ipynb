{
 "cells": [
  {
   "cell_type": "code",
   "execution_count": 1,
   "id": "15aea944",
   "metadata": {},
   "outputs": [],
   "source": [
    "from requests import get\n",
    "from xml.etree import ElementTree\n",
    "import pandas as pd\n",
    "from datetime import date, datetime\n",
    "import reverse_geocoder as rg\n",
    "import time"
   ]
  },
  {
   "cell_type": "code",
   "execution_count": 2,
   "id": "cf1e189c",
   "metadata": {},
   "outputs": [],
   "source": [
    "# XML Path that contains CRE data\n",
    "xml_prices = 'https://bit.ly/2JNcTha'\n",
    "xml_geo = 'https://bit.ly/2V1Z3sm'"
   ]
  },
  {
   "cell_type": "code",
   "execution_count": 3,
   "metadata": {},
   "outputs": [],
   "source": [
    "response_prices = get(xml_prices)\n",
    "response_geo = get(xml_geo)"
   ]
  },
  {
   "cell_type": "code",
   "execution_count": 4,
   "metadata": {},
   "outputs": [],
   "source": [
    "prices_tree = ElementTree.fromstring(response_prices.content)\n",
    "geo_tree = ElementTree.fromstring(response_geo.content)"
   ]
  },
  {
   "cell_type": "code",
   "execution_count": 5,
   "metadata": {},
   "outputs": [],
   "source": [
    "prices_data = []\n",
    "geo_data = []"
   ]
  },
  {
   "cell_type": "code",
   "execution_count": 6,
   "metadata": {},
   "outputs": [],
   "source": [
    "for child in prices_tree:\n",
    "    for subchild in child:\n",
    "        dict = {'id_lugar': int(child.attrib['place_id']),\n",
    "        'Producto': subchild.attrib['type'],\n",
    "        'Precio': float(subchild.text),\n",
    "        'Fecha' : date.today().strftime('%Y-%m-%d')\n",
    "        }\n",
    "        prices_data.append(dict)"
   ]
  },
  {
   "cell_type": "code",
   "execution_count": 7,
   "metadata": {},
   "outputs": [],
   "source": [
    "for child in geo_tree:\n",
    "    dict = {'id_lugar': float(child.attrib['place_id']),\n",
    "        'Nombre': child.find('name').text,\n",
    "        'Permiso': child.find('cre_id').text,\n",
    "        'y' : float(child.find('location').find('y').text), #rg.search(places_obj)[0]['admin1']\n",
    "        'x' : float(child.find('location').find('x').text)\n",
    "        }\n",
    "    geo_data.append(dict)"
   ]
  },
  {
   "cell_type": "code",
   "execution_count": 8,
   "metadata": {},
   "outputs": [],
   "source": [
    "prices = pd.DataFrame(prices_data)\n",
    "location = pd.DataFrame(geo_data)"
   ]
  },
  {
   "cell_type": "code",
   "execution_count": 9,
   "metadata": {},
   "outputs": [],
   "source": [
    "merged_df = pd.merge(how='left',left=prices, right=location, left_on='id_lugar', right_on='id_lugar')\n",
    "coords = tuple(zip(merged_df['y'], merged_df['x']))"
   ]
  },
  {
   "cell_type": "code",
   "execution_count": 10,
   "metadata": {},
   "outputs": [
    {
     "output_type": "stream",
     "name": "stdout",
     "text": [
      "Loading formatted geocoded file...\n"
     ]
    }
   ],
   "source": [
    "results_rg = rg.search(coords)"
   ]
  },
  {
   "cell_type": "code",
   "execution_count": 11,
   "metadata": {},
   "outputs": [],
   "source": [
    "state = [obj.get('admin1') for obj in results_rg]\n",
    "municipality = []"
   ]
  },
  {
   "cell_type": "code",
   "execution_count": 12,
   "metadata": {},
   "outputs": [],
   "source": [
    "for obj in results_rg:\n",
    "    mun = obj.get('admin2')\n",
    "    if mun == '':\n",
    "        mun = obj.get('name')\n",
    "    municipality.append(mun)"
   ]
  },
  {
   "cell_type": "code",
   "execution_count": 13,
   "metadata": {},
   "outputs": [],
   "source": [
    "merged_df['Estado'] = state\n",
    "merged_df['Municipio'] = municipality"
   ]
  },
  {
   "cell_type": "code",
   "execution_count": 14,
   "metadata": {},
   "outputs": [],
   "source": [
    "station_data = pd.read_csv('Resources/Stations_data.csv')"
   ]
  },
  {
   "cell_type": "code",
   "execution_count": 15,
   "metadata": {},
   "outputs": [],
   "source": [
    "merged_df2 = pd.merge(how='left',left=merged_df, right=station_data, left_on='Permiso', right_on='Numero')\n",
    "df = merged_df2[['Permiso','Estado','Municipio','EntidadFederativaId','MunicipioId']]"
   ]
  },
  {
   "cell_type": "code",
   "execution_count": 23,
   "metadata": {},
   "outputs": [
    {
     "output_type": "stream",
     "name": "stderr",
     "text": [
      "<ipython-input-23-88c3284642c7>:1: SettingWithCopyWarning: \nA value is trying to be set on a copy of a slice from a DataFrame.\nTry using .loc[row_indexer,col_indexer] = value instead\n\nSee the caveats in the documentation: https://pandas.pydata.org/pandas-docs/stable/user_guide/indexing.html#returning-a-view-versus-a-copy\n  df['EstadoCom'] = df['EntidadFederativaId'].where(df['EntidadFederativaId'].notnull(), df['Estado'])\n"
     ]
    }
   ],
   "source": [
    "df['EstadoCom'] = df['EntidadFederativaId'].where(df['EntidadFederativaId'].notnull(), df['Estado'])"
   ]
  },
  {
   "cell_type": "code",
   "execution_count": 24,
   "metadata": {},
   "outputs": [
    {
     "output_type": "execute_result",
     "data": {
      "text/plain": [
       "                    Permiso     Estado                   Municipio  \\\n",
       "372     PL/9747/EXP/ES/2015    Jalisco          Valle de Guadalupe   \n",
       "373     PL/9747/EXP/ES/2015    Jalisco          Valle de Guadalupe   \n",
       "389     PL/9740/EXP/ES/2015  Chihuahua    San Francisco de Conchos   \n",
       "390     PL/9740/EXP/ES/2015  Chihuahua    San Francisco de Conchos   \n",
       "391     PL/9740/EXP/ES/2015  Chihuahua    San Francisco de Conchos   \n",
       "...                     ...        ...                         ...   \n",
       "32962  PL/10220/EXP/ES/2015   Coahuila                    Monclova   \n",
       "32963  PL/10220/EXP/ES/2015   Coahuila                    Monclova   \n",
       "33244  PL/10118/EXP/ES/2015    Durango          Guadalupe Victoria   \n",
       "33284  PL/10102/EXP/ES/2015  Michoacan                 Huandacareo   \n",
       "33450  PL/10044/EXP/ES/2015     Mexico  Chalco de Diaz Covarrubias   \n",
       "\n",
       "      EntidadFederativaId MunicipioId  EstadoCom  \n",
       "372                   NaN         NaN    Jalisco  \n",
       "373                   NaN         NaN    Jalisco  \n",
       "389                   NaN         NaN  Chihuahua  \n",
       "390                   NaN         NaN  Chihuahua  \n",
       "391                   NaN         NaN  Chihuahua  \n",
       "...                   ...         ...        ...  \n",
       "32962                 NaN         NaN   Coahuila  \n",
       "32963                 NaN         NaN   Coahuila  \n",
       "33244                 NaN         NaN    Durango  \n",
       "33284                 NaN         NaN  Michoacan  \n",
       "33450                 NaN         NaN     Mexico  \n",
       "\n",
       "[1497 rows x 6 columns]"
      ],
      "text/html": "<div>\n<style scoped>\n    .dataframe tbody tr th:only-of-type {\n        vertical-align: middle;\n    }\n\n    .dataframe tbody tr th {\n        vertical-align: top;\n    }\n\n    .dataframe thead th {\n        text-align: right;\n    }\n</style>\n<table border=\"1\" class=\"dataframe\">\n  <thead>\n    <tr style=\"text-align: right;\">\n      <th></th>\n      <th>Permiso</th>\n      <th>Estado</th>\n      <th>Municipio</th>\n      <th>EntidadFederativaId</th>\n      <th>MunicipioId</th>\n      <th>EstadoCom</th>\n    </tr>\n  </thead>\n  <tbody>\n    <tr>\n      <th>372</th>\n      <td>PL/9747/EXP/ES/2015</td>\n      <td>Jalisco</td>\n      <td>Valle de Guadalupe</td>\n      <td>NaN</td>\n      <td>NaN</td>\n      <td>Jalisco</td>\n    </tr>\n    <tr>\n      <th>373</th>\n      <td>PL/9747/EXP/ES/2015</td>\n      <td>Jalisco</td>\n      <td>Valle de Guadalupe</td>\n      <td>NaN</td>\n      <td>NaN</td>\n      <td>Jalisco</td>\n    </tr>\n    <tr>\n      <th>389</th>\n      <td>PL/9740/EXP/ES/2015</td>\n      <td>Chihuahua</td>\n      <td>San Francisco de Conchos</td>\n      <td>NaN</td>\n      <td>NaN</td>\n      <td>Chihuahua</td>\n    </tr>\n    <tr>\n      <th>390</th>\n      <td>PL/9740/EXP/ES/2015</td>\n      <td>Chihuahua</td>\n      <td>San Francisco de Conchos</td>\n      <td>NaN</td>\n      <td>NaN</td>\n      <td>Chihuahua</td>\n    </tr>\n    <tr>\n      <th>391</th>\n      <td>PL/9740/EXP/ES/2015</td>\n      <td>Chihuahua</td>\n      <td>San Francisco de Conchos</td>\n      <td>NaN</td>\n      <td>NaN</td>\n      <td>Chihuahua</td>\n    </tr>\n    <tr>\n      <th>...</th>\n      <td>...</td>\n      <td>...</td>\n      <td>...</td>\n      <td>...</td>\n      <td>...</td>\n      <td>...</td>\n    </tr>\n    <tr>\n      <th>32962</th>\n      <td>PL/10220/EXP/ES/2015</td>\n      <td>Coahuila</td>\n      <td>Monclova</td>\n      <td>NaN</td>\n      <td>NaN</td>\n      <td>Coahuila</td>\n    </tr>\n    <tr>\n      <th>32963</th>\n      <td>PL/10220/EXP/ES/2015</td>\n      <td>Coahuila</td>\n      <td>Monclova</td>\n      <td>NaN</td>\n      <td>NaN</td>\n      <td>Coahuila</td>\n    </tr>\n    <tr>\n      <th>33244</th>\n      <td>PL/10118/EXP/ES/2015</td>\n      <td>Durango</td>\n      <td>Guadalupe Victoria</td>\n      <td>NaN</td>\n      <td>NaN</td>\n      <td>Durango</td>\n    </tr>\n    <tr>\n      <th>33284</th>\n      <td>PL/10102/EXP/ES/2015</td>\n      <td>Michoacan</td>\n      <td>Huandacareo</td>\n      <td>NaN</td>\n      <td>NaN</td>\n      <td>Michoacan</td>\n    </tr>\n    <tr>\n      <th>33450</th>\n      <td>PL/10044/EXP/ES/2015</td>\n      <td>Mexico</td>\n      <td>Chalco de Diaz Covarrubias</td>\n      <td>NaN</td>\n      <td>NaN</td>\n      <td>Mexico</td>\n    </tr>\n  </tbody>\n</table>\n<p>1497 rows × 6 columns</p>\n</div>"
     },
     "metadata": {},
     "execution_count": 24
    }
   ],
   "source": [
    "df[df['EntidadFederativaId'].isnull()]"
   ]
  },
  {
   "cell_type": "code",
   "execution_count": null,
   "metadata": {},
   "outputs": [],
   "source": []
  }
 ],
 "metadata": {
  "kernelspec": {
   "name": "python394jvsc74a57bd04cd7ab41f5fca4b9b44701077e38c5ffd31fe66a6cab21e0214b68d958d0e462",
   "display_name": "Python 3.9.4 64-bit"
  },
  "language_info": {
   "codemirror_mode": {
    "name": "ipython",
    "version": 3
   },
   "file_extension": ".py",
   "mimetype": "text/x-python",
   "name": "python",
   "nbconvert_exporter": "python",
   "pygments_lexer": "ipython3",
   "version": "3.9.4"
  },
  "metadata": {
   "interpreter": {
    "hash": "4cd7ab41f5fca4b9b44701077e38c5ffd31fe66a6cab21e0214b68d958d0e462"
   }
  }
 },
 "nbformat": 4,
 "nbformat_minor": 5
}